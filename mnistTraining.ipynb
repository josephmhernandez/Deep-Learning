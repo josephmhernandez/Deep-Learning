{
  "nbformat": 4,
  "nbformat_minor": 0,
  "metadata": {
    "colab": {
      "name": "mnistTraining.ipynb",
      "provenance": [],
      "collapsed_sections": [],
      "authorship_tag": "ABX9TyPg1Qvs2XFYTSGtcLtWoeAp",
      "include_colab_link": true
    },
    "kernelspec": {
      "name": "python3",
      "display_name": "Python 3"
    },
    "accelerator": "GPU"
  },
  "cells": [
    {
      "cell_type": "markdown",
      "metadata": {
        "id": "view-in-github",
        "colab_type": "text"
      },
      "source": [
        "<a href=\"https://colab.research.google.com/github/josephmhernandez/Deep-Learning/blob/master/mnistTraining.ipynb\" target=\"_parent\"><img src=\"https://colab.research.google.com/assets/colab-badge.svg\" alt=\"Open In Colab\"/></a>"
      ]
    },
    {
      "cell_type": "code",
      "metadata": {
        "id": "lE_utWzRx5lg",
        "colab_type": "code",
        "colab": {}
      },
      "source": [
        "from tensorflow.python.util import deprecation\n",
        "deprecation._PRINT_DEPRECATION_WARNINGS = False"
      ],
      "execution_count": 0,
      "outputs": []
    },
    {
      "cell_type": "code",
      "metadata": {
        "id": "G5jH2Gx1wwFM",
        "colab_type": "code",
        "outputId": "b755d6fc-7c5c-4f9a-972a-f6051fc6a7e2",
        "colab": {
          "base_uri": "https://localhost:8080/",
          "height": 221
        }
      },
      "source": [
        "\n",
        "import tensorflow as tf\n",
        "from tensorflow import keras\n",
        "\n",
        "from keras.datasets import mnist\n",
        "from keras import models\n",
        "from keras import layers\n",
        "from keras.utils import to_categorical\n",
        "\n",
        "#Gets rid of tensor flow warnings. \n",
        "from tensorflow.python.util import deprecation\n",
        "deprecation._PRINT_DEPRECATION_WARNINGS = False\n",
        "\n",
        "(train_images, train_labels), (test_images,  test_labels) = mnist.load_data()\n",
        "\n",
        "#Define the architecture of the neural network. \n",
        "network = models.Sequential()\n",
        "\n",
        "#Fist hidden layer: input = 28*28 nodes from the grayscale image, output = 512 nodes\n",
        "network.add(layers.Dense(512, activation='relu', input_shape=(28*28,)))\n",
        "\n",
        "#Second hidden layer: softmax with 10 different probabilities for possibile outcomes (0-9)\n",
        "network.add(layers.Dense(10, activation='softmax'))\n",
        "\n",
        "#Define the loss function and optimizer (how the weights will be adjusted).\n",
        "network.compile(optimizer= 'rmsprop', loss = 'categorical_crossentropy', metrics=['accuracy'])\n",
        "\n",
        "#reshape data to fit the first layer of the neural network.\n",
        "train_images = train_images.reshape((60000, 28*28))\n",
        "train_images = train_images.astype('float32') / 255\n",
        "\n",
        "test_images = test_images.reshape((10000, 28*28))\n",
        "test_images = test_images.astype('float32') / 255\n",
        "\n",
        "train_labels = to_categorical(train_labels)\n",
        "test_labels = to_categorical(test_labels)\n",
        "\n",
        "#Fit the data to the neural network we architected with 5 iterations and a batch size of 128. \n",
        "network.fit(train_images, train_labels, epochs=5, batch_size=128)\n",
        "\n",
        "#Evaluate network. \n",
        "test_loss, test_acc = network.evaluate(test_images, test_labels)\n",
        "print('test_acc:', test_acc)\n"
      ],
      "execution_count": 5,
      "outputs": [
        {
          "output_type": "stream",
          "text": [
            "Epoch 1/5\n",
            "60000/60000 [==============================] - 2s 28us/step - loss: 0.2577 - acc: 0.9274\n",
            "Epoch 2/5\n",
            "60000/60000 [==============================] - 2s 25us/step - loss: 0.1029 - acc: 0.9693\n",
            "Epoch 3/5\n",
            "60000/60000 [==============================] - 2s 26us/step - loss: 0.0678 - acc: 0.9802\n",
            "Epoch 4/5\n",
            "60000/60000 [==============================] - 1s 25us/step - loss: 0.0493 - acc: 0.9847\n",
            "Epoch 5/5\n",
            "60000/60000 [==============================] - 1s 25us/step - loss: 0.0367 - acc: 0.9892\n",
            "10000/10000 [==============================] - 0s 39us/step\n",
            "test_acc: 0.9802\n"
          ],
          "name": "stdout"
        }
      ]
    },
    {
      "cell_type": "code",
      "metadata": {
        "id": "2i2HO2fqeg18",
        "colab_type": "code",
        "colab": {}
      },
      "source": [
        "# import tensorflow as tf\n",
        "# print(tf.__version__)\n",
        "# !pip install tensorflow-gpu==1.14.0"
      ],
      "execution_count": 0,
      "outputs": []
    }
  ]
}