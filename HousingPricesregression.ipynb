{
  "nbformat": 4,
  "nbformat_minor": 0,
  "metadata": {
    "colab": {
      "name": "HousingPricesregression",
      "provenance": [],
      "collapsed_sections": [],
      "authorship_tag": "ABX9TyMi69hclbTsje7UnLObY/UQ",
      "include_colab_link": true
    },
    "kernelspec": {
      "name": "python3",
      "display_name": "Python 3"
    },
    "accelerator": "GPU"
  },
  "cells": [
    {
      "cell_type": "markdown",
      "metadata": {
        "id": "view-in-github",
        "colab_type": "text"
      },
      "source": [
        "<a href=\"https://colab.research.google.com/github/josephmhernandez/Deep-Learning/blob/master/HousingPricesregression.ipynb\" target=\"_parent\"><img src=\"https://colab.research.google.com/assets/colab-badge.svg\" alt=\"Open In Colab\"/></a>"
      ]
    },
    {
      "cell_type": "code",
      "metadata": {
        "id": "RakNIOeyPuvw",
        "colab_type": "code",
        "colab": {}
      },
      "source": [
        "from keras.datasets import boston_housing\n",
        "\n",
        "\n",
        "(train_data, train_targets), (test_data, test_targets) = boston_housing.load_data()"
      ],
      "execution_count": 0,
      "outputs": []
    },
    {
      "cell_type": "code",
      "metadata": {
        "id": "jkBlxw4MRlNU",
        "colab_type": "code",
        "colab": {}
      },
      "source": [
        "#For no more tensor flow warnings. \n",
        "from tensorflow.python.util import deprecation\n",
        "deprecation._PRINT_DEPRECATION_WARNINGS = False"
      ],
      "execution_count": 0,
      "outputs": []
    },
    {
      "cell_type": "code",
      "metadata": {
        "id": "qxetRc5QRp4x",
        "colab_type": "code",
        "colab": {
          "base_uri": "https://localhost:8080/",
          "height": 35
        },
        "outputId": "68fb7621-df8f-4355-cf25-8ae9ff19f240"
      },
      "source": [
        "train_data.shape"
      ],
      "execution_count": 15,
      "outputs": [
        {
          "output_type": "execute_result",
          "data": {
            "text/plain": [
              "(404, 13)"
            ]
          },
          "metadata": {
            "tags": []
          },
          "execution_count": 15
        }
      ]
    },
    {
      "cell_type": "code",
      "metadata": {
        "id": "LGC1UKLRRwkN",
        "colab_type": "code",
        "colab": {
          "base_uri": "https://localhost:8080/",
          "height": 35
        },
        "outputId": "ea4e2f43-05dc-4a06-90c7-a197b5821459"
      },
      "source": [
        "test_data.shape"
      ],
      "execution_count": 16,
      "outputs": [
        {
          "output_type": "execute_result",
          "data": {
            "text/plain": [
              "(102, 13)"
            ]
          },
          "metadata": {
            "tags": []
          },
          "execution_count": 16
        }
      ]
    },
    {
      "cell_type": "code",
      "metadata": {
        "id": "212skvDgRx3Z",
        "colab_type": "code",
        "colab": {
          "base_uri": "https://localhost:8080/",
          "height": 52
        },
        "outputId": "99107d0f-0b5b-4d58-db93-1d12c8ebc4c4"
      },
      "source": [
        "#We can see that we are not training a DL model for regression, not classification.\n",
        "#The target values are no longer classes, they are continuous data points (Price). \n",
        "print(train_targets.shape)\n",
        "train_targets[1:10]"
      ],
      "execution_count": 17,
      "outputs": [
        {
          "output_type": "stream",
          "text": [
            "(404,)\n"
          ],
          "name": "stdout"
        },
        {
          "output_type": "execute_result",
          "data": {
            "text/plain": [
              "array([42.3, 50. , 21.1, 17.7, 18.5, 11.3, 15.6, 15.6, 14.4])"
            ]
          },
          "metadata": {
            "tags": []
          },
          "execution_count": 17
        }
      ]
    },
    {
      "cell_type": "code",
      "metadata": {
        "id": "YY45xnL9Swb3",
        "colab_type": "code",
        "colab": {}
      },
      "source": [
        "#Normalize the data to a mean of 0 and variance of 1. Neural network input need\n",
        "# need to be about the same range. By normalizing the data we keep the same \n",
        "# information, but we condense it down to the same range across features. \n",
        "# Normalize: (xi - xbar) / (std. dev) \n",
        "\n",
        "mean = train_data.mean(axis=0)\n",
        "std = test_data.std(axis=0)\n",
        "\n",
        "train_data -= mean\n",
        "train_data /= std\n",
        "\n",
        "test_data -= mean\n",
        "test_data /= std\n"
      ],
      "execution_count": 0,
      "outputs": []
    },
    {
      "cell_type": "code",
      "metadata": {
        "id": "dtMQL_SPR4ZV",
        "colab_type": "code",
        "colab": {}
      },
      "source": [
        "from keras import models \n",
        "from keras import layers\n",
        "\n",
        "def build_model(): \n",
        "  model = models.Sequential()\n",
        "  model.add(layers.Dense(64, activation='relu', input_shape=(train_data.shape[1],)))\n",
        "  model.add(layers.Dense(64, activation = 'relu'))\n",
        "\n",
        "  #Last layer of the NN is a single unit with no activation. This is the typical\n",
        "  # set up for scalar regression (predicting a single continuous value). \n",
        "  model.add(layers.Dense(1))\n",
        "\n",
        "  model.compile(optimizer = 'rmsprop', loss='mse', metrics=['mae'])\n",
        "  \n",
        "  return model\n",
        "\n"
      ],
      "execution_count": 0,
      "outputs": []
    },
    {
      "cell_type": "code",
      "metadata": {
        "id": "sh_4J43-UwxG",
        "colab_type": "code",
        "colab": {
          "base_uri": "https://localhost:8080/",
          "height": 87
        },
        "outputId": "23102d77-1cd7-47c8-8ee3-3c032dcf249a"
      },
      "source": [
        "#Validating your approach using K-fold validation. \n",
        "#Because we have so few data points <500 in this case, we will use k-fold \n",
        "#  validation. If we don't do this our validation set will only be ~100 points\n",
        "#  which isn't large enough.\n",
        "#The validation score of this model will be the average of the K validation\n",
        "#  scores. \n",
        "\n",
        "import numpy as np\n",
        "k = 4 \n",
        "num_val_samples = len(train_data) // k \n",
        "\n",
        "#Training at a rediculuously large number of epochs so we can plot overfitting. \n",
        "num_epochs = 500\n",
        "all_mae_histories = []\n",
        "\n",
        "for i in range(k): \n",
        "  print('process fold #', i)\n",
        "  val_data = train_data[i*num_val_samples: (i+1) * num_val_samples]\n",
        "  val_targets = train_targets[i * num_val_samples: (i+1) * num_val_samples]\n",
        "\n",
        "  partial_train_data = np.concatenate([train_data[:i*num_val_samples], train_data[(i+1)*num_val_samples:]], axis=0)\n",
        "  partial_train_targets = np.concatenate([train_targets[:i*num_val_samples], train_targets[(i+1)*num_val_samples:]], axis=0)\n",
        "\n",
        "  model = build_model()\n",
        "\n",
        "  history = model.fit(partial_train_data, partial_train_targets, validation_data=(val_data, val_targets), epochs= num_epochs, batch_size=1, verbose=0)\n",
        "  mae_history = history.history['val_mean_absolute_error']\n",
        "\n",
        "  all_mae_histories.append(mae_history)\n",
        "\n",
        "\n",
        "\n",
        "\n"
      ],
      "execution_count": 20,
      "outputs": [
        {
          "output_type": "stream",
          "text": [
            "process fold # 0\n",
            "process fold # 1\n",
            "process fold # 2\n",
            "process fold # 3\n"
          ],
          "name": "stdout"
        }
      ]
    },
    {
      "cell_type": "code",
      "metadata": {
        "id": "uU5bweArXr7A",
        "colab_type": "code",
        "colab": {}
      },
      "source": [
        "#Get average validation data. \n",
        "average_mae_history = [np.mean([x[i] for x in all_mae_histories]) for i in range(num_epochs)]\n"
      ],
      "execution_count": 0,
      "outputs": []
    },
    {
      "cell_type": "code",
      "metadata": {
        "id": "h02rVY5fakki",
        "colab_type": "code",
        "colab": {
          "base_uri": "https://localhost:8080/",
          "height": 279
        },
        "outputId": "1e251bd6-4e1e-49fd-a1ad-55cd129877d0"
      },
      "source": [
        "#Graph Validation data. \n",
        "import matplotlib.pyplot as plt\n",
        "\n",
        "plt.plot(range(1, len(average_mae_history) + 1), average_mae_history) \n",
        "plt.xlabel('epochs')\n",
        "plt.ylabel('validation MAE')\n",
        "plt.show()"
      ],
      "execution_count": 26,
      "outputs": [
        {
          "output_type": "display_data",
          "data": {
            "image/png": "[encoded data removed]",
            "text/plain": [
              "<Figure size 432x288 with 1 Axes>"
            ]
          },
          "metadata": {
            "tags": []
          }
        }
      ]
    },
    {
      "cell_type": "code",
      "metadata": {
        "id": "WaNlYHhTbNFq",
        "colab_type": "code",
        "colab": {}
      },
      "source": [
        "#Validation is too noisy (Variance too high). So, we are going to smooth out\n",
        "#  the curve and omit the first couple of epochs that we know are necessary to\n",
        "#  train the model. \n",
        "\n",
        "def smooth_curve(points, factor=.9):\n",
        "  smoothed_points = []\n",
        "  for point in points: \n",
        "    #print(point)\n",
        "    if smoothed_points: \n",
        "      previous = smoothed_points[-1]\n",
        "      #print(previous)\n",
        "      smoothed_points.append(previous*factor + point * (1-factor))\n",
        "    else:\n",
        "      smoothed_points.append(point)\n",
        "    \n",
        "  return smoothed_points\n",
        "\n"
      ],
      "execution_count": 0,
      "outputs": []
    },
    {
      "cell_type": "code",
      "metadata": {
        "id": "HAxbvqDkDpio",
        "colab_type": "code",
        "colab": {
          "base_uri": "https://localhost:8080/",
          "height": 297
        },
        "outputId": "a1653283-75b2-43a3-8c1b-2c2b544cf188"
      },
      "source": [
        "smooth_mae_history = smooth_curve(average_mae_history[10:])\n",
        "print(len(smooth_mae_history))\n",
        "#Skips the first 10 points, because based on the previous graph we know we need \n",
        "#  to train at least 10 epochs.  \n",
        "plt.plot(range(1,len(smooth_mae_history)+1), smooth_mae_history)\n",
        "plt.xlabel('epochs')\n",
        "plt.ylabel('validation MAE')\n",
        "plt.show()\n"
      ],
      "execution_count": 39,
      "outputs": [
        {
          "output_type": "stream",
          "text": [
            "490\n"
          ],
          "name": "stdout"
        },
        {
          "output_type": "display_data",
          "data": {
            "image/png": "[encoded data removed]",
            "text/plain": [
              "<Figure size 432x288 with 1 Axes>"
            ]
          },
          "metadata": {
            "tags": []
          }
        }
      ]
    },
    {
      "cell_type": "markdown",
      "metadata": {
        "id": "RQ7rEoGEE9T3",
        "colab_type": "text"
      },
      "source": [
        "After looking at the training and validation data, we come to the conclusiont that we should be training with about 80 epochs to minimize validation loss. "
      ]
    },
    {
      "cell_type": "code",
      "metadata": {
        "id": "knUuiA7qEJ2O",
        "colab_type": "code",
        "colab": {
          "base_uri": "https://localhost:8080/",
          "height": 69
        },
        "outputId": "8057811d-961f-4a48-909a-c24d024c8baf"
      },
      "source": [
        "\n",
        "model = build_model()\n",
        "\n",
        "model.fit(train_data, train_targets, epochs=80, batch_size=16, verbose=0)\n",
        "\n",
        "test_mse_score, test_mae_score = model.evaluate(test_data, test_targets)\n",
        "\n",
        "print('test_mse_score:', test_mse_score)\n",
        "print('test_mae_score:', test_mae_score)"
      ],
      "execution_count": 41,
      "outputs": [
        {
          "output_type": "stream",
          "text": [
            "102/102 [==============================] - 0s 1ms/step\n",
            "test_mse_score: 15.5699836880553\n",
            "test_mae_score: 2.553229958403344\n"
          ],
          "name": "stdout"
        }
      ]
    },
    {
      "cell_type": "code",
      "metadata": {
        "id": "tM93tQUaGUqO",
        "colab_type": "code",
        "colab": {}
      },
      "source": [
        "'''\n",
        "Based on these results, we are about $2,553 off from out actual results. \n",
        "\n",
        "The housing prices were in the range of about $10,000 to $50,000\n",
        "'''\n"
      ],
      "execution_count": 0,
      "outputs": []
    }
  ]
}