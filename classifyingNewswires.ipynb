{
  "nbformat": 4,
  "nbformat_minor": 0,
  "metadata": {
    "colab": {
      "name": "classifyingNewswires.ipynb",
      "provenance": [],
      "collapsed_sections": [],
      "toc_visible": true,
      "authorship_tag": "ABX9TyPHV3kjsYhWlUaKN1y1ZdCK",
      "include_colab_link": true
    },
    "kernelspec": {
      "name": "python3",
      "display_name": "Python 3"
    },
    "accelerator": "GPU"
  },
  "cells": [
    {
      "cell_type": "markdown",
      "metadata": {
        "id": "view-in-github",
        "colab_type": "text"
      },
      "source": [
        "<a href=\"https://colab.research.google.com/github/josephmhernandez/Deep-Learning/blob/master/classifyingNewswires.ipynb\" target=\"_parent\"><img src=\"https://colab.research.google.com/assets/colab-badge.svg\" alt=\"Open In Colab\"/></a>"
      ]
    },
    {
      "cell_type": "code",
      "metadata": {
        "colab_type": "code",
        "id": "6z56Y-TBqBc-",
        "colab": {}
      },
      "source": [
        "from keras.datasets import reuters\n",
        "from keras import models\n",
        "from keras import layers\n",
        "from keras.utils import to_categorical\n",
        "\n",
        "import numpy as np\n",
        "\n",
        "from keras.utils.np_utils import to_categorical\n"
      ],
      "execution_count": 0,
      "outputs": []
    },
    {
      "cell_type": "code",
      "metadata": {
        "id": "0-g5YgakqEZR",
        "colab_type": "code",
        "colab": {}
      },
      "source": [
        "from tensorflow.python.util import deprecation\n",
        "deprecation._PRINT_DEPRECATION_WARNINGS = False"
      ],
      "execution_count": 0,
      "outputs": []
    },
    {
      "cell_type": "code",
      "metadata": {
        "id": "sHE2ycvcnGl9",
        "colab_type": "code",
        "outputId": "9aa1cd9a-d7a8-4b22-d359-fe510d8398b4",
        "colab": {
          "base_uri": "https://localhost:8080/",
          "height": 51
        }
      },
      "source": [
        "#Load the dataset. \n",
        "(train_data, train_labels), (test_data, test_labels) = reuters.load_data(num_words=10000)\n",
        "\n",
        "print('len(train_data):', len(train_data))\n",
        "print('length test data:', len(test_data))"
      ],
      "execution_count": 26,
      "outputs": [
        {
          "output_type": "stream",
          "text": [
            "len(train_data): 8982\n",
            "length test data: 2246\n"
          ],
          "name": "stdout"
        }
      ]
    },
    {
      "cell_type": "code",
      "metadata": {
        "id": "CD0E1AIVnegc",
        "colab_type": "code",
        "colab": {}
      },
      "source": [
        "#Preprosses data. \n",
        "def vectorize_sequences(seq, dimension=10000):\n",
        "  results = np.zeros((len(seq), dimension))\n",
        "  for i, ss in enumerate(seq):\n",
        "    results[i, ss] = 1\n",
        "\n",
        "  return results"
      ],
      "execution_count": 0,
      "outputs": []
    },
    {
      "cell_type": "code",
      "metadata": {
        "id": "rwMFOLKeoRVb",
        "colab_type": "code",
        "colab": {}
      },
      "source": [
        "from keras.utils.np_utils import to_categorical\n",
        "#Preprocess data. \n",
        "#can also switch to to_categorical() built into keras\n",
        "x_train = vectorize_sequences(train_data)\n",
        "x_test = vectorize_sequences(test_data)\n",
        "\n",
        "one_hot_test_labels = to_categorical(test_labels)\n",
        "one_hot_train_labels = to_categorical(train_labels)\n"
      ],
      "execution_count": 0,
      "outputs": []
    },
    {
      "cell_type": "code",
      "metadata": {
        "id": "_s38ROfGjxqx",
        "colab_type": "code",
        "colab": {}
      },
      "source": [
        "from keras import models\n",
        "from keras import layers\n",
        "\n",
        "model = models.Sequential()\n",
        "\n",
        "model.add(layers.Dense(64, activation='relu', input_shape=(10000,)))\n",
        "model.add(layers.Dense(64, activation='relu'))\n",
        "model.add(layers.Dense(46, activation='softmax'))\n"
      ],
      "execution_count": 0,
      "outputs": []
    },
    {
      "cell_type": "code",
      "metadata": {
        "id": "M9ZKlDYbkKeg",
        "colab_type": "code",
        "outputId": "c2c9af4c-4b5d-4d45-8db8-c8381d13ee09",
        "colab": {
          "base_uri": "https://localhost:8080/",
          "height": 34
        }
      },
      "source": [
        "model.compile(optimizer= 'rmsprop', loss = 'categorical_crossentropy', metrics=['accuracy'])\n",
        "\n",
        "#Setting apart 1,000 samples in the training data to use as a validation set.\n",
        "x_val = x_train[:1000]\n",
        "print(len(x_train))\n",
        "partial_x_train = x_train[1000:]\n",
        "\n",
        "y_val = one_hot_train_labels[:1000]\n",
        "partial_y_train = one_hot_train_labels[1000:]\n",
        "\n",
        "\n"
      ],
      "execution_count": 30,
      "outputs": [
        {
          "output_type": "stream",
          "text": [
            "8982\n"
          ],
          "name": "stdout"
        }
      ]
    },
    {
      "cell_type": "code",
      "metadata": {
        "id": "n3ozrkQ-jzDO",
        "colab_type": "code",
        "outputId": "2eb3309a-e1d3-4e99-d92e-39a7a1094563",
        "colab": {
          "base_uri": "https://localhost:8080/",
          "height": 782
        }
      },
      "source": [
        "print(len(partial_x_train))\n",
        "print(len(partial_y_train))\n",
        "\n",
        "print(len(x_val))\n",
        "print(len(y_val))\n",
        "\n",
        "history = model.fit(partial_x_train, partial_y_train, epochs=20, batch_size=512, validation_data=(x_val, y_val))\n",
        "\n"
      ],
      "execution_count": 31,
      "outputs": [
        {
          "output_type": "stream",
          "text": [
            "7982\n",
            "7982\n",
            "1000\n",
            "1000\n",
            "Train on 7982 samples, validate on 1000 samples\n",
            "Epoch 1/20\n",
            "7982/7982 [==============================] - 1s 97us/step - loss: 2.6239 - acc: 0.5352 - val_loss: 1.7413 - val_acc: 0.6470\n",
            "Epoch 2/20\n",
            "7982/7982 [==============================] - 0s 54us/step - loss: 1.4054 - acc: 0.7090 - val_loss: 1.2960 - val_acc: 0.7320\n",
            "Epoch 3/20\n",
            "7982/7982 [==============================] - 0s 57us/step - loss: 1.0342 - acc: 0.7818 - val_loss: 1.1290 - val_acc: 0.7500\n",
            "Epoch 4/20\n",
            "7982/7982 [==============================] - 0s 54us/step - loss: 0.8127 - acc: 0.8282 - val_loss: 1.0293 - val_acc: 0.7850\n",
            "Epoch 5/20\n",
            "7982/7982 [==============================] - 0s 54us/step - loss: 0.6493 - acc: 0.8613 - val_loss: 0.9724 - val_acc: 0.7990\n",
            "Epoch 6/20\n",
            "7982/7982 [==============================] - 0s 52us/step - loss: 0.5172 - acc: 0.8944 - val_loss: 0.9590 - val_acc: 0.8000\n",
            "Epoch 7/20\n",
            "7982/7982 [==============================] - 0s 55us/step - loss: 0.4191 - acc: 0.9146 - val_loss: 0.9189 - val_acc: 0.8130\n",
            "Epoch 8/20\n",
            "7982/7982 [==============================] - 0s 55us/step - loss: 0.3402 - acc: 0.9286 - val_loss: 0.9220 - val_acc: 0.8070\n",
            "Epoch 9/20\n",
            "7982/7982 [==============================] - 0s 54us/step - loss: 0.2774 - acc: 0.9381 - val_loss: 0.9380 - val_acc: 0.8110\n",
            "Epoch 10/20\n",
            "7982/7982 [==============================] - 0s 53us/step - loss: 0.2363 - acc: 0.9480 - val_loss: 1.0187 - val_acc: 0.7870\n",
            "Epoch 11/20\n",
            "7982/7982 [==============================] - 0s 53us/step - loss: 0.2050 - acc: 0.9483 - val_loss: 0.9379 - val_acc: 0.8220\n",
            "Epoch 12/20\n",
            "7982/7982 [==============================] - 0s 55us/step - loss: 0.1791 - acc: 0.9531 - val_loss: 0.9883 - val_acc: 0.8030\n",
            "Epoch 13/20\n",
            "7982/7982 [==============================] - 0s 54us/step - loss: 0.1636 - acc: 0.9520 - val_loss: 0.9960 - val_acc: 0.8170\n",
            "Epoch 14/20\n",
            "7982/7982 [==============================] - 0s 54us/step - loss: 0.1528 - acc: 0.9550 - val_loss: 1.0018 - val_acc: 0.8080\n",
            "Epoch 15/20\n",
            "7982/7982 [==============================] - 0s 53us/step - loss: 0.1378 - acc: 0.9564 - val_loss: 1.0004 - val_acc: 0.8100\n",
            "Epoch 16/20\n",
            "7982/7982 [==============================] - 0s 53us/step - loss: 0.1293 - acc: 0.9582 - val_loss: 1.0325 - val_acc: 0.8080\n",
            "Epoch 17/20\n",
            "7982/7982 [==============================] - 0s 53us/step - loss: 0.1270 - acc: 0.9554 - val_loss: 1.0470 - val_acc: 0.7990\n",
            "Epoch 18/20\n",
            "7982/7982 [==============================] - 0s 53us/step - loss: 0.1190 - acc: 0.9577 - val_loss: 1.1499 - val_acc: 0.7790\n",
            "Epoch 19/20\n",
            "7982/7982 [==============================] - 0s 55us/step - loss: 0.1103 - acc: 0.9594 - val_loss: 1.0763 - val_acc: 0.8060\n",
            "Epoch 20/20\n",
            "7982/7982 [==============================] - 0s 54us/step - loss: 0.1104 - acc: 0.9574 - val_loss: 1.1334 - val_acc: 0.7960\n"
          ],
          "name": "stdout"
        }
      ]
    },
    {
      "cell_type": "code",
      "metadata": {
        "id": "PtqMWvC8mDtT",
        "colab_type": "code",
        "outputId": "f4680b6a-b1fe-4b2b-e064-aac6d029cca5",
        "colab": {
          "base_uri": "https://localhost:8080/",
          "height": 295
        }
      },
      "source": [
        "#plot: \n",
        "import matplotlib.pyplot as plt\n",
        "loss = history.history['loss']\n",
        "val_loss = history.history['val_loss']\n",
        "epochs = range(1, len(loss) + 1)\n",
        "\n",
        "plt.plot(epochs, loss, 'bo', label='Training loss')\n",
        "plt.plot(epochs, val_loss, 'b', label = 'Validation loss')\n",
        "plt.title('Training and Validation Loss')\n",
        "plt.xlabel('Epochs')\n",
        "plt.ylabel('Loss')\n",
        "plt.legend()\n",
        "plt.show()"
      ],
      "execution_count": 32,
      "outputs": [
        {
          "output_type": "display_data",
          "data": {
            "image/png": "[encoded data removed]",
            "text/plain": [
              "<Figure size 432x288 with 1 Axes>"
            ]
          },
          "metadata": {
            "tags": []
          }
        }
      ]
    },
    {
      "cell_type": "code",
      "metadata": {
        "id": "l9VMPO4Erz9t",
        "colab_type": "code",
        "colab": {
          "base_uri": "https://localhost:8080/",
          "height": 295
        },
        "outputId": "88663ed8-9f41-4e0f-edbf-c3c3ad26d088"
      },
      "source": [
        "plt.clf()\n",
        "acc = history.history['acc']\n",
        "val_acc = history.history['val_acc']\n",
        "\n",
        "plt.plot(epochs, acc, 'bo', label='Training acc')\n",
        "plt.plot(epochs, val_acc, 'b', label='Validation acc')\n",
        "plt.title('Training and Validation Accuracy')\n",
        "plt.xlabel('Epochs')\n",
        "plt.ylabel('Accuracy')\n",
        "plt.legend()\n",
        "plt.show()\n"
      ],
      "execution_count": 33,
      "outputs": [
        {
          "output_type": "display_data",
          "data": {
            "image/png": "[encoded data removed]",
            "text/plain": [
              "<Figure size 432x288 with 1 Axes>"
            ]
          },
          "metadata": {
            "tags": []
          }
        }
      ]
    },
    {
      "cell_type": "code",
      "metadata": {
        "id": "OgG6_VBWqwZX",
        "colab_type": "code",
        "colab": {
          "base_uri": "https://localhost:8080/",
          "height": 357
        },
        "outputId": "c75f9e0f-5d8d-4e5c-8349-214a88b370bb"
      },
      "source": [
        "#Retraining the model from scratch with only 9 epochs. (Tuned hyperparameters)\n",
        "\n",
        "model = models.Sequential()\n",
        "model.add(layers.Dense(64, input_shape=(10000,), activation = 'relu'))\n",
        "model.add(layers.Dense(64, activation='relu'))\n",
        "model.add(layers.Dense(46, activation='softmax'))\n",
        "\n",
        "model.compile(optimizer='rmsprop', loss='categorical_crossentropy', metrics=['accuracy'])\n",
        "model.fit(partial_x_train, partial_y_train, epochs=9, batch_size=512, validation_data=(x_val, y_val))\n",
        "results = model.evaluate(x_test, one_hot_test_labels)\n"
      ],
      "execution_count": 34,
      "outputs": [
        {
          "output_type": "stream",
          "text": [
            "Train on 7982 samples, validate on 1000 samples\n",
            "Epoch 1/9\n",
            "7982/7982 [==============================] - 1s 95us/step - loss: 2.7754 - acc: 0.5003 - val_loss: 1.8898 - val_acc: 0.6120\n",
            "Epoch 2/9\n",
            "7982/7982 [==============================] - 0s 54us/step - loss: 1.5248 - acc: 0.6768 - val_loss: 1.3694 - val_acc: 0.6990\n",
            "Epoch 3/9\n",
            "7982/7982 [==============================] - 0s 55us/step - loss: 1.1092 - acc: 0.7667 - val_loss: 1.1606 - val_acc: 0.7550\n",
            "Epoch 4/9\n",
            "7982/7982 [==============================] - 0s 54us/step - loss: 0.8659 - acc: 0.8220 - val_loss: 1.0480 - val_acc: 0.7790\n",
            "Epoch 5/9\n",
            "7982/7982 [==============================] - 0s 54us/step - loss: 0.6971 - acc: 0.8557 - val_loss: 0.9859 - val_acc: 0.7950\n",
            "Epoch 6/9\n",
            "7982/7982 [==============================] - 0s 53us/step - loss: 0.5521 - acc: 0.8866 - val_loss: 0.9448 - val_acc: 0.8010\n",
            "Epoch 7/9\n",
            "7982/7982 [==============================] - 0s 55us/step - loss: 0.4483 - acc: 0.9059 - val_loss: 0.9077 - val_acc: 0.8130\n",
            "Epoch 8/9\n",
            "7982/7982 [==============================] - 0s 53us/step - loss: 0.3664 - acc: 0.9214 - val_loss: 0.9063 - val_acc: 0.8080\n",
            "Epoch 9/9\n",
            "7982/7982 [==============================] - 0s 54us/step - loss: 0.2985 - acc: 0.9346 - val_loss: 0.9000 - val_acc: 0.8190\n",
            "2246/2246 [==============================] - 0s 87us/step\n"
          ],
          "name": "stdout"
        }
      ]
    },
    {
      "cell_type": "code",
      "metadata": {
        "id": "6gvF4BbArtqm",
        "colab_type": "code",
        "colab": {
          "base_uri": "https://localhost:8080/",
          "height": 34
        },
        "outputId": "9e0a894d-0f02-4752-8422-8bd937a15294"
      },
      "source": [
        "results"
      ],
      "execution_count": 35,
      "outputs": [
        {
          "output_type": "execute_result",
          "data": {
            "text/plain": [
              "[1.0058755734512452, 0.783615316064466]"
            ]
          },
          "metadata": {
            "tags": []
          },
          "execution_count": 35
        }
      ]
    },
    {
      "cell_type": "code",
      "metadata": {
        "id": "LM1eVUB2r2vK",
        "colab_type": "code",
        "colab": {}
      },
      "source": [
        "#Results of ~ 79% are statistically significant because a random classifier wouldn't come close to these numbers. \n",
        "#\n",
        "#Take aways from this example: \n",
        "# \"\"\"\n",
        "# - If you're trying to classify data points to N classes the last layer of your network should have a dense layer of size N. \n",
        "# - In a single-label, multiclass problem, the last layer should be a sftmax activation so it will output a distribution of probabilities. \n",
        "# - You should almost always choose categorical crossentropy as your loss function because it minimizes the distance betwween the probability distributions output\n",
        "#     by the network and the true distribution of the targets. \n",
        "# - Handling labels in multiclass classification:\n",
        "#     -> encoding the labels via coategorical encoding (also known as one-hot encoding) and using categorical_crossentroy as a loss function\n",
        "#     -> encoding teh labels as integers and using the sparse_categorical_crossentropy loss function\n",
        "# - If you are classifying date into a large amount of categories, avoid creating information bottlenecks by making the intermediate layers too small. \n",
        "# \"\"\""
      ],
      "execution_count": 0,
      "outputs": []
    }
  ]
}